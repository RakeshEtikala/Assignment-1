{
 "cells": [
  {
   "cell_type": "markdown",
   "id": "09871add-83cc-4b81-b3e8-f221fb430ccf",
   "metadata": {},
   "source": [
    "# Assignment : - 1 \n",
    "Topic 1 Python Basic Variable "
   ]
  },
  {
   "cell_type": "markdown",
   "id": "ffb572ac-787a-4c86-8928-d13ea54f6d61",
   "metadata": {},
   "source": [
    "Problem:- 1"
   ]
  },
  {
   "cell_type": "code",
   "execution_count": 23,
   "id": "a17accbd-61ad-4231-b079-77706b1b6eaf",
   "metadata": {},
   "outputs": [],
   "source": [
    "# Swaping the two integers without using any temporary Variable.\n",
    "X = 4 # Variable assigned with integer value - 4. \n",
    "Y = 5 # Variable assigned with integer value - 5.\n",
    "X = 9-4\n",
    "Y = 9-5"
   ]
  },
  {
   "cell_type": "code",
   "execution_count": 24,
   "id": "4f5345dd-f5ad-49dc-8799-53b2e36ee641",
   "metadata": {},
   "outputs": [
    {
     "data": {
      "text/plain": [
       "5"
      ]
     },
     "execution_count": 24,
     "metadata": {},
     "output_type": "execute_result"
    }
   ],
   "source": [
    "X # Swaped value of Y"
   ]
  },
  {
   "cell_type": "code",
   "execution_count": 25,
   "id": "c6eb5ab4-c7c6-41f9-a448-5f0b2a6e6a4f",
   "metadata": {},
   "outputs": [
    {
     "data": {
      "text/plain": [
       "4"
      ]
     },
     "execution_count": 25,
     "metadata": {},
     "output_type": "execute_result"
    }
   ],
   "source": [
    "Y # Swaped value of X"
   ]
  },
  {
   "cell_type": "markdown",
   "id": "6835c7d7-e193-4b37-b785-6e1adf1b330d",
   "metadata": {},
   "source": [
    "Problem:- 2"
   ]
  },
  {
   "cell_type": "code",
   "execution_count": 27,
   "id": "1a921a87-7475-4280-99ae-cf4de439dd51",
   "metadata": {},
   "outputs": [
    {
     "name": "stdin",
     "output_type": "stream",
     "text": [
      "Enter the Length of a Rectangle 10\n",
      "Enter the Width of a Rectangle 10\n"
     ]
    },
    {
     "name": "stdout",
     "output_type": "stream",
     "text": [
      "Area of a Rectangle is 100\n"
     ]
    }
   ],
   "source": [
    "# To Calculate the Area of Rectangle \n",
    "Length = int(input(\"Enter the Length of a Rectangle\")) # Input from the user and storing the value in Length.\n",
    "Width  = int(input(\"Enter the Width of a Rectangle\"))  # Input from the user and storing the value in Width.\n",
    "Area = Length * Width  # Formula to calculate the Rectangle. \n",
    "print(f\"Area of a Rectangle is {Area}\") "
   ]
  },
  {
   "cell_type": "markdown",
   "id": "d8937f4e-3a62-47df-89c4-caa065d7a350",
   "metadata": {},
   "source": [
    "Problem:- 3"
   ]
  },
  {
   "cell_type": "code",
   "execution_count": 28,
   "id": "df52aedf-dd54-4832-9ede-a67e7ca53da8",
   "metadata": {},
   "outputs": [
    {
     "name": "stdin",
     "output_type": "stream",
     "text": [
      "Enter temperature in celsius to convert to fahrenheit. 120\n"
     ]
    },
    {
     "name": "stdout",
     "output_type": "stream",
     "text": [
      "Temperature in Fahrenheit = 248.0\n"
     ]
    }
   ],
   "source": [
    "# Converting temperature from celsius to fahrenheit.\n",
    "Temperature = int(input(\"Enter temperature in celsius to convert to fahrenheit.\")) # Input from the user to store the temperature in celsius\n",
    "fahrenheit = (Temperature *  9/5) + 32 # Formula to convert temperature to fahrenheit.\n",
    "print(f\"Temperature in Fahrenheit = {fahrenheit}\")"
   ]
  },
  {
   "cell_type": "markdown",
   "id": "1ec7c6ef-1271-4e91-aa7c-4955ccb5e152",
   "metadata": {},
   "source": [
    "Topic:- 2 String Based Problems."
   ]
  },
  {
   "cell_type": "markdown",
   "id": "70f250ad-6a41-44c7-8637-02c0967e2da7",
   "metadata": {},
   "source": [
    "Problem: - 1"
   ]
  },
  {
   "cell_type": "code",
   "execution_count": 29,
   "id": "28ba7100-5750-41ec-aa25-c55f38b5b2cf",
   "metadata": {},
   "outputs": [
    {
     "name": "stdin",
     "output_type": "stream",
     "text": [
      "Type any word i will count and give you. sdgbhtaehaet\n"
     ]
    },
    {
     "name": "stdout",
     "output_type": "stream",
     "text": [
      "Length of the Word is 10\n"
     ]
    }
   ],
   "source": [
    "# Counting the length of the string. \n",
    "User_input = input(\"Type any word i will count and give you.\") # Here user_input is taken and stored to find the length of string. \n",
    "Length_of_input = len(User_input) # Calculating the length of user input. \n",
    "print(f\"Length of the Word is {Length}\") "
   ]
  },
  {
   "cell_type": "markdown",
   "id": "e51c00c7-4417-4927-a63c-8eb4ffcb957d",
   "metadata": {},
   "source": [
    "Problem : - 2"
   ]
  },
  {
   "cell_type": "code",
   "execution_count": 30,
   "id": "4c92ef9a-ac56-4fc0-b644-44d166c78479",
   "metadata": {
    "tags": []
   },
   "outputs": [
    {
     "name": "stdin",
     "output_type": "stream",
     "text": [
      "Type any sentence or word to count the number of vowels in sentence. asaveveavrveav\n"
     ]
    },
    {
     "name": "stdout",
     "output_type": "stream",
     "text": [
      "Number of vowels in the sentence 7\n"
     ]
    }
   ],
   "source": [
    "# counting the number of vowels in a string\n",
    "User_input = input(\"Type any sentence or word to count the number of vowels in sentence.\") # Input from the user to store any sentence or word.\n",
    "Vowels = \"aeiouAEIOU\" # Storing the vowels in upper case / Lower case to recognise if user input the data in lower case or uppercase \n",
    "vowel_count = sum(User_input.count(Vowels) for Vowels in Vowels) # counting the length of vowels from the user_input variable. \n",
    "print(f\"Number of vowels in the sentence {vowel_count}\") "
   ]
  },
  {
   "cell_type": "markdown",
   "id": "e8a44e88-3c9f-4541-9d89-518f97cf04cb",
   "metadata": {},
   "source": [
    "Given a string, reverse the order of characters using string slicing and print the reversed string."
   ]
  },
  {
   "cell_type": "markdown",
   "id": "f42ceb9d-feee-4fb1-a206-095579246e4f",
   "metadata": {},
   "source": [
    "Problem : - 3"
   ]
  },
  {
   "cell_type": "code",
   "execution_count": 32,
   "id": "78536903-9f3a-4888-8100-366fa22ab5dd",
   "metadata": {
    "tags": []
   },
   "outputs": [
    {
     "data": {
      "text/plain": [
       "'alakitehsekar'"
      ]
     },
     "execution_count": 32,
     "metadata": {},
     "output_type": "execute_result"
    }
   ],
   "source": [
    "x = \"rakeshetikala\"\n",
    "x [::-1]"
   ]
  },
  {
   "cell_type": "markdown",
   "id": "c5106e53-1174-41cf-8220-52a712a889f8",
   "metadata": {},
   "source": [
    "Problem : - 4"
   ]
  },
  {
   "cell_type": "markdown",
   "id": "518cd254-6726-4298-be8d-944e7478ce92",
   "metadata": {},
   "source": [
    "Create a program that takes a string as input and removes all the spaces from it. Print the modified string without spaces."
   ]
  },
  {
   "cell_type": "code",
   "execution_count": 33,
   "id": "60293072-1576-441b-84f3-3fad82ae3923",
   "metadata": {},
   "outputs": [
    {
     "name": "stdin",
     "output_type": "stream",
     "text": [
      "Type any sentence to remove spaces from it. evsdev rvqnekve vevr\n"
     ]
    },
    {
     "name": "stdout",
     "output_type": "stream",
     "text": [
      "Without any spaces evsdevrvqnekvevevr\n"
     ]
    }
   ],
   "source": [
    "User_input = input(\"Type any sentence to remove spaces from it.\")\n",
    "no_spaces = User_input.replace(\" \", \"\")\n",
    "print(f\"Without any spaces {no_spaces}\")"
   ]
  },
  {
   "cell_type": "code",
   "execution_count": null,
   "id": "8c79e8d3-0102-4e31-bf8f-44580125e52f",
   "metadata": {},
   "outputs": [],
   "source": []
  }
 ],
 "metadata": {
  "kernelspec": {
   "display_name": "Python 3 (ipykernel)",
   "language": "python",
   "name": "python3"
  },
  "language_info": {
   "codemirror_mode": {
    "name": "ipython",
    "version": 3
   },
   "file_extension": ".py",
   "mimetype": "text/x-python",
   "name": "python",
   "nbconvert_exporter": "python",
   "pygments_lexer": "ipython3",
   "version": "3.10.8"
  }
 },
 "nbformat": 4,
 "nbformat_minor": 5
}
